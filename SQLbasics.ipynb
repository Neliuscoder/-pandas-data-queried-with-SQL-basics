{
 "cells": [
  {
   "cell_type": "code",
   "execution_count": 26,
   "id": "4baabb5f",
   "metadata": {},
   "outputs": [],
   "source": [
    "import pandas as pd\n",
    "import numpy as np"
   ]
  },
  {
   "cell_type": "code",
   "execution_count": 27,
   "id": "61fd3e17",
   "metadata": {},
   "outputs": [],
   "source": [
    "#generating random data\n",
    "np.random.seed(1)\n",
    "data = {\n",
    "    \"ID\":np.arange(1,1001),\n",
    "    \"First_name\":np.random.choice([\"cornelius\", \"samantha\", \"nelius\", \"John\", \"peter\"], size = 1000),\n",
    "    \"Last_name\":np.random.choice([\"don\", \"tish\", \"nyamweya\", \"omondi\", \"mbugua\",], size = 1000),\n",
    "    \"Gender\":np.random.choice([\"M\", \"F\"], size = 1000),\n",
    "    \"Age\":np.random.randint(16, 45, size = 1000)\n",
    "}"
   ]
  },
  {
   "cell_type": "code",
   "execution_count": 28,
   "id": "8ab10d86",
   "metadata": {},
   "outputs": [
    {
     "name": "stdout",
     "output_type": "stream",
     "text": [
      "      ID First_name Last_name Gender  Age\n",
      "596  597   samantha      tish      F   43\n",
      "871  872       John       don      M   28\n",
      "520  521  cornelius      tish      M   36\n",
      "823  824   samantha    omondi      M   44\n",
      "124  125   samantha  nyamweya      M   37\n",
      "62    63       John       don      F   33\n",
      "897  898       John      tish      M   25\n",
      "226  227   samantha    mbugua      M   16\n",
      "459  460     nelius    omondi      F   19\n",
      "121  122     nelius    omondi      M   24\n"
     ]
    }
   ],
   "source": [
    "df = pd.DataFrame(data )\n",
    "print(df.sample(10))"
   ]
  },
  {
   "cell_type": "code",
   "execution_count": 29,
   "id": "c72415dd",
   "metadata": {},
   "outputs": [
    {
     "name": "stdout",
     "output_type": "stream",
     "text": [
      "    First_name Last_name  Age\n",
      "459     nelius    omondi   19\n",
      "782     nelius    omondi   37\n",
      "728     nelius       don   22\n",
      "445   samantha  nyamweya   41\n",
      "795       John  nyamweya   23\n"
     ]
    }
   ],
   "source": [
    "#the select statement\n",
    "query = \"\"\"\n",
    "SELECT First_name, Last_name, Age\n",
    "FROM df\n",
    "\"\"\"\n",
    "\n",
    "result = sqldf(query)\n",
    "print(result.sample(5))"
   ]
  },
  {
   "cell_type": "code",
   "execution_count": 30,
   "id": "59381b1e",
   "metadata": {},
   "outputs": [
    {
     "name": "stdout",
     "output_type": "stream",
     "text": [
      "      ID First_name Last_name Gender  Age\n",
      "42   214  cornelius       don      M   26\n",
      "113  524      peter    mbugua      M   21\n",
      "17    91      peter    mbugua      M   26\n",
      "119  549      peter       don      M   26\n",
      "21   119     nelius    mbugua      M   26\n"
     ]
    }
   ],
   "source": [
    "#where\n",
    "query = \"\"\"\n",
    "SELECT *\n",
    "FROM df \n",
    "WHERE age <30 AND Gender = \"M\" \n",
    "\"\"\"\n",
    "result = sqldf(query)\n",
    "print(result.sample(5))"
   ]
  },
  {
   "cell_type": "code",
   "execution_count": 31,
   "id": "c1bf99d7",
   "metadata": {},
   "outputs": [
    {
     "name": "stdout",
     "output_type": "stream",
     "text": [
      "     ID First_name Last_name Gender  Age\n",
      "96  515      peter    mbugua      F   33\n",
      "79  413  cornelius    mbugua      F   28\n",
      "38  218  cornelius    mbugua      F   44\n",
      "82  423       John    mbugua      M   18\n",
      "39  220      peter    mbugua      M   24\n"
     ]
    }
   ],
   "source": [
    "query = \"\"\"\n",
    "SELECT *\n",
    "FROM df \n",
    "WHERE age >10 AND last_name = \"mbugua\"\n",
    "\"\"\"\n",
    "result = sqldf(query)\n",
    "print(result.sample(5))"
   ]
  },
  {
   "cell_type": "code",
   "execution_count": 43,
   "id": "af59cd71",
   "metadata": {},
   "outputs": [
    {
     "name": "stdout",
     "output_type": "stream",
     "text": [
      "  GD\n",
      "0  F\n",
      "1  M\n"
     ]
    }
   ],
   "source": [
    "#group by\n",
    "query = \"\"\"\n",
    "SELECT Gender as GD\n",
    "FROM df \n",
    "GROUP BY Gender \n",
    "\"\"\"\n",
    "result = sqldf(query)\n",
    "print(result)\n"
   ]
  },
  {
   "cell_type": "code",
   "execution_count": 37,
   "id": "602534ee",
   "metadata": {},
   "outputs": [
    {
     "name": "stdout",
     "output_type": "stream",
     "text": [
      "    A\n",
      "0  34\n",
      "1  16\n"
     ]
    }
   ],
   "source": [
    "query = \"\"\"\n",
    "SELECT Age as A\n",
    "FROM df \n",
    "GROUP BY Gender \n",
    "\"\"\"\n",
    "result = sqldf(query)\n",
    "print(result.head())\n"
   ]
  },
  {
   "cell_type": "code",
   "execution_count": 42,
   "id": "9aa58755",
   "metadata": {},
   "outputs": [
    {
     "name": "stdout",
     "output_type": "stream",
     "text": [
      "  First_name Last_name  Age\n",
      "0   samantha      tish   28\n",
      "1   samantha      tish   37\n",
      "2   samantha      tish   38\n",
      "3   samantha      tish   40\n",
      "4   samantha      tish   25\n"
     ]
    }
   ],
   "source": [
    "import pandasql import sqldf\n",
    "#order by \n",
    "query = \"\"\"\n",
    "SELECT First_name, Last_name , Age \n",
    "FROM df \n",
    "ORDER BY  First_name desc, Last_name desc\n",
    "\"\"\"\n",
    "result = sqldf(query)\n",
    "print(result.head())\n",
    "\n"
   ]
  },
  {
   "cell_type": "code",
   "execution_count": 52,
   "id": "48dde5a9",
   "metadata": {},
   "outputs": [],
   "source": [
    "# join \n",
    "# creating a second dataframe\n",
    "np.random.seed(2)\n",
    "data2 = {\n",
    "    \"ID\":np.arange(1, 1001),\n",
    "    \"city\":np.random.choice([\"kisumu\", \"nairobi\", \"mombasa\", \"eldoret\",\"nakuru\"], size = 1000),\n",
    "    \"country\":np.random.choice([\"kenya\", \"uganda\", \"tanzania\", \"rwanda\", \"burundi\"])\n",
    "    \n",
    "}\n",
    "df2 = pd.DataFrame(data2)"
   ]
  },
  {
   "cell_type": "code",
   "execution_count": 76,
   "id": "dbb6ec5e",
   "metadata": {},
   "outputs": [
    {
     "name": "stdout",
     "output_type": "stream",
     "text": [
      "   ID First_name Last_name     city\n",
      "0   1       John       don   kisumu\n",
      "1   2      peter  nyamweya   kisumu\n",
      "2   3  cornelius      tish  eldoret\n",
      "3   4   samantha  nyamweya  mombasa\n",
      "4   5       John    omondi  eldoret\n"
     ]
    }
   ],
   "source": [
    "#inner join\n",
    "query = \"\"\"\n",
    "SELECT df.[ID], df.[First_name], df.[Last_name], df2.[city]\n",
    "FROM df\n",
    "INNER JOIN df2 ON df.\"ID\" = df2.\"ID\"\n",
    "\"\"\"\n",
    "result = sqldf(query)\n",
    "print(result.head())\n"
   ]
  },
  {
   "cell_type": "code",
   "execution_count": null,
   "id": "fe69fce9",
   "metadata": {},
   "outputs": [],
   "source": [
    "#right join\n",
    "query = \"\"\"\n",
    "SELECT df.[ID], df.[First_name], df.[Last_name], df2.[city]\n",
    "FROM df\n",
    "RIGHT JOIN df2 ON df.\"ID\" = df2.\"ID\"\n",
    "\"\"\"\n",
    "try:\n",
    "    result = sqldf(query)\n",
    "    print(result.head())\n",
    "    \n",
    "    "
   ]
  },
  {
   "cell_type": "code",
   "execution_count": null,
   "id": "24e1f5b8",
   "metadata": {},
   "outputs": [],
   "source": []
  }
 ],
 "metadata": {
  "kernelspec": {
   "display_name": "Python 3 (ipykernel)",
   "language": "python",
   "name": "python3"
  },
  "language_info": {
   "codemirror_mode": {
    "name": "ipython",
    "version": 3
   },
   "file_extension": ".py",
   "mimetype": "text/x-python",
   "name": "python",
   "nbconvert_exporter": "python",
   "pygments_lexer": "ipython3",
   "version": "3.9.13"
  }
 },
 "nbformat": 4,
 "nbformat_minor": 5
}
